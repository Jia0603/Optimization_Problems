{
 "cells": [
  {
   "cell_type": "code",
   "execution_count": 12,
   "id": "b99a47ca",
   "metadata": {},
   "outputs": [],
   "source": [
    "import numpy as np\n",
    "from base import *\n",
    "from Optimizers import NewtonOptimizer"
   ]
  },
  {
   "cell_type": "code",
   "execution_count": 13,
   "id": "0c9a8614",
   "metadata": {},
   "outputs": [],
   "source": [
    "def rosenbrock(x):\n",
    "    return 100 * (x[1] - x[0]**2)**2 + (1 - x[0])**2\n",
    "\n",
    "def rosenbrock_grad(x):\n",
    "    return np.array([-400 * x[0] * (x[1] - x[0]**2) - 2 * (1 - x[0]),\n",
    "                     200 * (x[1] - x[0]**2)])"
   ]
  },
  {
   "cell_type": "code",
   "execution_count": 14,
   "id": "c1a72bd8",
   "metadata": {},
   "outputs": [],
   "source": [
    "problem = OptimizationProblem(rosenbrock, rosenbrock_grad)\n",
    "optimizer = NewtonOptimizer(problem, line_search_type='fixed', tol=1e-6, max_iter=100)"
   ]
  },
  {
   "cell_type": "code",
   "execution_count": 15,
   "id": "353a01c1",
   "metadata": {},
   "outputs": [
    {
     "name": "stdout",
     "output_type": "stream",
     "text": [
      "Iteration 9: Problem converged!\n",
      "Initialization: [-1.5  2. ]\n",
      "Optimization: [1. 1.]\n",
      "F(x_best): 6.052306436378211e-18\n",
      "Iterations: 9\n"
     ]
    }
   ],
   "source": [
    "# A simple test on classic Netwon Optimizer\n",
    "x0 = np.array([-1.5, 2.0])\n",
    "x_star = optimizer.solve(x0)\n",
    "print(f\"Initialization: {x0}\")\n",
    "print(f\"Optimization: {x_star}\")\n",
    "print(f\"F(x_best): {rosenbrock(x_star)}\")\n",
    "print(f\"Iterations: {optimizer.iter_info['iter']}\")"
   ]
  }
 ],
 "metadata": {
  "kernelspec": {
   "display_name": "base",
   "language": "python",
   "name": "python3"
  },
  "language_info": {
   "codemirror_mode": {
    "name": "ipython",
    "version": 3
   },
   "file_extension": ".py",
   "mimetype": "text/x-python",
   "name": "python",
   "nbconvert_exporter": "python",
   "pygments_lexer": "ipython3",
   "version": "3.12.2"
  }
 },
 "nbformat": 4,
 "nbformat_minor": 5
}
